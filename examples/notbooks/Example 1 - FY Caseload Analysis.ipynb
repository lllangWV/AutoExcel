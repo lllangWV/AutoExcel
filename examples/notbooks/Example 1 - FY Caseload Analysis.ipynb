{
 "cells": [
  {
   "cell_type": "markdown",
   "metadata": {},
   "source": [
    "# AutoExcel Jupyter Notebook  \n",
    "\n",
    "This notebook will guide you through processing an Excel spreadsheet using the `AutoExcel` package. You can run this notebook locally or on **Google Colab**.\n",
    "\n",
    "## Prerequisites  \n",
    "\n",
    "### Option 1: Local Setup  \n",
    "Before proceeding, ensure that Python is installed on your machine. If not, follow [this video tutorial](https://www.youtube.com/watch?v=uhwpJ0SaxFM) to install Anaconda, which includes Python.  \n",
    "\n",
    "### Option 2: Google Colab  \n",
    "You can also run this notebook in Google Colab. Simply upload this notebook to Colab and follow the instructions below.\n",
    "\n",
    "---\n",
    "\n",
    "## What This Script Does  \n",
    "\n",
    "This script automates the processing of an Excel spreadsheet using the `AutoExcel` package. It:  \n",
    "\n",
    "- Reads a raw Excel file.  \n",
    "- Applies a template to structure the data.  \n",
    "- Processes the data and saves the results in a specified output directory.  \n",
    "\n",
    "\n",
    "## Directory and File Descriptions\n",
    "\n",
    "1. **Raw Data Directory**:  \n",
    "   - **Path**: `data/fy_analysis/raw/`\n",
    "   - **File**: `Raw Data 9-19-2024.xlsx`\n",
    "   - **Description**: This is the raw input file containing the original data to be processed. Make sure this file is saved in the specified directory before running the script.\n",
    "\n",
    "2. **Template Directory**:  \n",
    "   - **Path**: `data/fy_analysis/templates/`\n",
    "   - **File**: `template_processed_workbook.xlsx`\n",
    "   - **Description**: This template file defines the structure and layout applied to the raw data during processing. Place this file in the specified directory.\n",
    "\n",
    "3. **Processed Data Directory**:  \n",
    "   - **Path**: `data/fy_analysis/processed/`\n",
    "   - **Description**: The processed output file will be saved here once the script is run. This directory stores the results after applying the template to the raw data.\n",
    "\n",
    "---\n",
    "\n",
    "## Parameter Explanation: `assigned_date_filter`\n",
    "\n",
    "The `assigned_date_filter` parameter allows you to filter data by assigned dates:\n",
    "- **Value**: `[datetime(2023, 7, 1), None]`\n",
    "  - This example filter includes data from July 1, 2023, onward.\n",
    "  - The first date (`datetime(2023, 7, 1)`) is the start date.\n",
    "  - `None` as the second value indicates no end date, meaning data from July 1, 2023, up to the latest date will be included.\n",
    "- You can adjust this filter to include a specific date range by setting both start and end dates as `datetime(year, month, day)`.\n",
    "\n",
    "\n",
    "---"
   ]
  },
  {
   "cell_type": "markdown",
   "metadata": {},
   "source": [
    "## Notebook Instructions  \n",
    "\n",
    "1. **Run the Setup Code Block**: This will install the necessary package and set up configurations.  \n",
    "2. **Process the Data**: Modify the file paths if your data is stored in different locations.  \n"
   ]
  },
  {
   "cell_type": "code",
   "execution_count": 1,
   "metadata": {},
   "outputs": [
    {
     "name": "stdout",
     "output_type": "stream",
     "text": [
      "Collecting git+https://github.com/lllangWV/AutoExcel.git\n",
      "  Cloning https://github.com/lllangWV/AutoExcel.git to c:\\users\\lllang\\appdata\\local\\temp\\pip-req-build-vubrgvy6\n",
      "  Resolved https://github.com/lllangWV/AutoExcel.git to commit 276a496464e9300c2e5092428b8253dd92bbac92\n",
      "  Installing build dependencies: started\n",
      "  Installing build dependencies: finished with status 'done'\n",
      "  Getting requirements to build wheel: started\n",
      "  Getting requirements to build wheel: finished with status 'done'\n",
      "  Preparing metadata (pyproject.toml): started\n",
      "  Preparing metadata (pyproject.toml): finished with status 'done'\n",
      "Collecting python-dotenv (from autoexcel==0.0)\n",
      "  Using cached python_dotenv-1.0.1-py3-none-any.whl.metadata (23 kB)\n",
      "Collecting matplotlib (from autoexcel==0.0)\n",
      "  Using cached matplotlib-3.9.2-cp312-cp312-win_amd64.whl.metadata (11 kB)\n",
      "Collecting seaborn (from autoexcel==0.0)\n",
      "  Using cached seaborn-0.13.2-py3-none-any.whl.metadata (5.4 kB)\n",
      "Collecting variconfig (from autoexcel==0.0)\n",
      "  Using cached variconfig-0.0.3-py3-none-any.whl.metadata (5.1 kB)\n",
      "Collecting pandas (from autoexcel==0.0)\n",
      "  Using cached pandas-2.2.3-cp312-cp312-win_amd64.whl.metadata (19 kB)\n",
      "Collecting beautifulsoup4 (from autoexcel==0.0)\n",
      "  Using cached beautifulsoup4-4.12.3-py3-none-any.whl.metadata (3.8 kB)\n",
      "Requirement already satisfied: requests in c:\\users\\lllang\\miniconda3\\lib\\site-packages (from autoexcel==0.0) (2.32.3)\n",
      "Collecting openpyxl (from autoexcel==0.0)\n",
      "  Using cached openpyxl-3.1.5-py2.py3-none-any.whl.metadata (2.5 kB)\n",
      "Collecting tabulate (from autoexcel==0.0)\n",
      "  Using cached tabulate-0.9.0-py3-none-any.whl.metadata (34 kB)\n",
      "Collecting soupsieve>1.2 (from beautifulsoup4->autoexcel==0.0)\n",
      "  Using cached soupsieve-2.6-py3-none-any.whl.metadata (4.6 kB)\n",
      "Collecting contourpy>=1.0.1 (from matplotlib->autoexcel==0.0)\n",
      "  Downloading contourpy-1.3.1-cp312-cp312-win_amd64.whl.metadata (5.4 kB)\n",
      "Collecting cycler>=0.10 (from matplotlib->autoexcel==0.0)\n",
      "  Using cached cycler-0.12.1-py3-none-any.whl.metadata (3.8 kB)\n",
      "Collecting fonttools>=4.22.0 (from matplotlib->autoexcel==0.0)\n",
      "  Downloading fonttools-4.55.0-cp312-cp312-win_amd64.whl.metadata (167 kB)\n",
      "Collecting kiwisolver>=1.3.1 (from matplotlib->autoexcel==0.0)\n",
      "  Using cached kiwisolver-1.4.7-cp312-cp312-win_amd64.whl.metadata (6.4 kB)\n",
      "Collecting numpy>=1.23 (from matplotlib->autoexcel==0.0)\n",
      "  Downloading numpy-2.1.3-cp312-cp312-win_amd64.whl.metadata (60 kB)\n",
      "Requirement already satisfied: packaging>=20.0 in c:\\users\\lllang\\miniconda3\\lib\\site-packages (from matplotlib->autoexcel==0.0) (24.1)\n",
      "Collecting pillow>=8 (from matplotlib->autoexcel==0.0)\n",
      "  Downloading pillow-11.0.0-cp312-cp312-win_amd64.whl.metadata (9.3 kB)\n",
      "Collecting pyparsing>=2.3.1 (from matplotlib->autoexcel==0.0)\n",
      "  Using cached pyparsing-3.2.0-py3-none-any.whl.metadata (5.0 kB)\n",
      "Requirement already satisfied: python-dateutil>=2.7 in c:\\users\\lllang\\miniconda3\\lib\\site-packages (from matplotlib->autoexcel==0.0) (2.9.0)\n",
      "Collecting et-xmlfile (from openpyxl->autoexcel==0.0)\n",
      "  Downloading et_xmlfile-2.0.0-py3-none-any.whl.metadata (2.7 kB)\n",
      "Collecting pytz>=2020.1 (from pandas->autoexcel==0.0)\n",
      "  Using cached pytz-2024.2-py2.py3-none-any.whl.metadata (22 kB)\n",
      "Collecting tzdata>=2022.7 (from pandas->autoexcel==0.0)\n",
      "  Using cached tzdata-2024.2-py2.py3-none-any.whl.metadata (1.4 kB)\n",
      "Requirement already satisfied: charset-normalizer<4,>=2 in c:\\users\\lllang\\miniconda3\\lib\\site-packages (from requests->autoexcel==0.0) (3.3.2)\n",
      "Requirement already satisfied: idna<4,>=2.5 in c:\\users\\lllang\\miniconda3\\lib\\site-packages (from requests->autoexcel==0.0) (3.7)\n",
      "Requirement already satisfied: urllib3<3,>=1.21.1 in c:\\users\\lllang\\miniconda3\\lib\\site-packages (from requests->autoexcel==0.0) (2.2.2)\n",
      "Requirement already satisfied: certifi>=2017.4.17 in c:\\users\\lllang\\miniconda3\\lib\\site-packages (from requests->autoexcel==0.0) (2024.8.30)\n",
      "Collecting toml (from variconfig->autoexcel==0.0)\n",
      "  Using cached toml-0.10.2-py2.py3-none-any.whl.metadata (7.1 kB)\n",
      "Collecting PyYAML (from variconfig->autoexcel==0.0)\n",
      "  Using cached PyYAML-6.0.2-cp312-cp312-win_amd64.whl.metadata (2.1 kB)\n",
      "Requirement already satisfied: six>=1.5 in c:\\users\\lllang\\miniconda3\\lib\\site-packages (from python-dateutil>=2.7->matplotlib->autoexcel==0.0) (1.16.0)\n",
      "Using cached beautifulsoup4-4.12.3-py3-none-any.whl (147 kB)\n",
      "Using cached matplotlib-3.9.2-cp312-cp312-win_amd64.whl (7.8 MB)\n",
      "Using cached openpyxl-3.1.5-py2.py3-none-any.whl (250 kB)\n",
      "Using cached pandas-2.2.3-cp312-cp312-win_amd64.whl (11.5 MB)\n",
      "Using cached python_dotenv-1.0.1-py3-none-any.whl (19 kB)\n",
      "Using cached seaborn-0.13.2-py3-none-any.whl (294 kB)\n",
      "Using cached tabulate-0.9.0-py3-none-any.whl (35 kB)\n",
      "Using cached variconfig-0.0.3-py3-none-any.whl (11 kB)\n",
      "Downloading contourpy-1.3.1-cp312-cp312-win_amd64.whl (220 kB)\n",
      "Using cached cycler-0.12.1-py3-none-any.whl (8.3 kB)\n",
      "Downloading fonttools-4.55.0-cp312-cp312-win_amd64.whl (2.2 MB)\n",
      "   ---------------------------------------- 0.0/2.2 MB ? eta -:--:--\n",
      "   ---------------------------------------- 2.2/2.2 MB 30.8 MB/s eta 0:00:00\n",
      "Using cached kiwisolver-1.4.7-cp312-cp312-win_amd64.whl (55 kB)\n",
      "Downloading numpy-2.1.3-cp312-cp312-win_amd64.whl (12.6 MB)\n",
      "   ---------------------------------------- 0.0/12.6 MB ? eta -:--:--\n",
      "   --------------------------------- ------ 10.5/12.6 MB 50.4 MB/s eta 0:00:01\n",
      "   ---------------------------------------- 12.6/12.6 MB 37.5 MB/s eta 0:00:00\n",
      "Downloading pillow-11.0.0-cp312-cp312-win_amd64.whl (2.6 MB)\n",
      "   ---------------------------------------- 0.0/2.6 MB ? eta -:--:--\n",
      "   ---------------------------------------- 2.6/2.6 MB 36.6 MB/s eta 0:00:00\n",
      "Using cached pyparsing-3.2.0-py3-none-any.whl (106 kB)\n",
      "Using cached pytz-2024.2-py2.py3-none-any.whl (508 kB)\n",
      "Using cached soupsieve-2.6-py3-none-any.whl (36 kB)\n",
      "Using cached tzdata-2024.2-py2.py3-none-any.whl (346 kB)\n",
      "Downloading et_xmlfile-2.0.0-py3-none-any.whl (18 kB)\n",
      "Using cached PyYAML-6.0.2-cp312-cp312-win_amd64.whl (156 kB)\n",
      "Using cached toml-0.10.2-py2.py3-none-any.whl (16 kB)\n",
      "Building wheels for collected packages: autoexcel\n",
      "  Building wheel for autoexcel (pyproject.toml): started\n",
      "  Building wheel for autoexcel (pyproject.toml): finished with status 'done'\n",
      "  Created wheel for autoexcel: filename=autoexcel-0.0-py3-none-any.whl size=12694 sha256=27ec955b7808f482303f458b675a622ad3017a89d1d1d1e6095db2a49358ce0f\n",
      "  Stored in directory: C:\\Users\\lllang\\AppData\\Local\\Temp\\pip-ephem-wheel-cache-tp49ylip\\wheels\\7b\\12\\ae\\df14349a7a28703325bd697c12882f93d85f94b7cec3c511ea\n",
      "Successfully built autoexcel\n",
      "Installing collected packages: pytz, tzdata, toml, tabulate, soupsieve, PyYAML, python-dotenv, pyparsing, pillow, numpy, kiwisolver, fonttools, et-xmlfile, cycler, variconfig, pandas, openpyxl, contourpy, beautifulsoup4, matplotlib, seaborn, autoexcel\n",
      "Successfully installed PyYAML-6.0.2 autoexcel-0.0 beautifulsoup4-4.12.3 contourpy-1.3.1 cycler-0.12.1 et-xmlfile-2.0.0 fonttools-4.55.0 kiwisolver-1.4.7 matplotlib-3.9.2 numpy-2.1.3 openpyxl-3.1.5 pandas-2.2.3 pillow-11.0.0 pyparsing-3.2.0 python-dotenv-1.0.1 pytz-2024.2 seaborn-0.13.2 soupsieve-2.6 tabulate-0.9.0 toml-0.10.2 tzdata-2024.2 variconfig-0.0.3\n"
     ]
    },
    {
     "name": "stderr",
     "output_type": "stream",
     "text": [
      "  Running command git clone --filter=blob:none --quiet https://github.com/lllangWV/AutoExcel.git 'C:\\Users\\lllang\\AppData\\Local\\Temp\\pip-req-build-vubrgvy6'\n"
     ]
    }
   ],
   "source": [
    "# Install the AutoExcel package\n",
    "!pip install git+https://github.com/lllangWV/AutoExcel.git"
   ]
  },
  {
   "cell_type": "code",
   "execution_count": 2,
   "metadata": {},
   "outputs": [
    {
     "ename": "ImportError",
     "evalue": "cannot import name 'fy_analysis' from 'autoexcel.main' (c:\\Users\\lllang\\miniconda3\\Lib\\site-packages\\autoexcel\\main.py)",
     "output_type": "error",
     "traceback": [
      "\u001b[1;31m---------------------------------------------------------------------------\u001b[0m",
      "\u001b[1;31mImportError\u001b[0m                               Traceback (most recent call last)",
      "Cell \u001b[1;32mIn[2], line 3\u001b[0m\n\u001b[0;32m      1\u001b[0m \u001b[38;5;66;03m# Import necessary modules\u001b[39;00m\n\u001b[0;32m      2\u001b[0m \u001b[38;5;28;01mfrom\u001b[39;00m \u001b[38;5;21;01mdatetime\u001b[39;00m \u001b[38;5;28;01mimport\u001b[39;00m datetime\n\u001b[1;32m----> 3\u001b[0m \u001b[38;5;28;01mfrom\u001b[39;00m \u001b[38;5;21;01mautoexcel\u001b[39;00m\u001b[38;5;21;01m.\u001b[39;00m\u001b[38;5;21;01mmain\u001b[39;00m \u001b[38;5;28;01mimport\u001b[39;00m fy_analysis\n\u001b[0;32m      4\u001b[0m \u001b[38;5;28;01mfrom\u001b[39;00m \u001b[38;5;21;01mautoexcel\u001b[39;00m\u001b[38;5;21;01m.\u001b[39;00m\u001b[38;5;21;01mutils\u001b[39;00m\u001b[38;5;21;01m.\u001b[39;00m\u001b[38;5;21;01mconfig\u001b[39;00m \u001b[38;5;28;01mimport\u001b[39;00m config\n\u001b[0;32m      5\u001b[0m \u001b[38;5;28;01mimport\u001b[39;00m \u001b[38;5;21;01mos\u001b[39;00m\n",
      "\u001b[1;31mImportError\u001b[0m: cannot import name 'fy_analysis' from 'autoexcel.main' (c:\\Users\\lllang\\miniconda3\\Lib\\site-packages\\autoexcel\\main.py)"
     ]
    }
   ],
   "source": [
    "# Import necessary modules\n",
    "from datetime import datetime\n",
    "from autoexcel.main import fy_analysis\n",
    "from autoexcel.utils.config import config\n",
    "import os\n",
    "\n",
    "# Configure logging level for debugging\n",
    "config.logging_config.loggers.autoexcel.level = 'DEBUG'\n",
    "config.apply()"
   ]
  },
  {
   "cell_type": "code",
   "execution_count": null,
   "metadata": {},
   "outputs": [],
   "source": [
    "# Define input paths\n",
    "raw_xlsx = os.path.join(config.data_dir, 'fy_analysis', 'raw', 'Raw Data 9-19-2024.xlsx')\n",
    "template_xlsx = os.path.join(config.data_dir, 'fy_analysis', 'templates', 'template_processed_workbook.xlsx')\n",
    "processed_dir = os.path.join(config.data_dir, 'fy_analysis', 'processed')"
   ]
  },
  {
   "cell_type": "code",
   "execution_count": null,
   "metadata": {},
   "outputs": [],
   "source": [
    "# Define optional filter for assigned dates\n",
    "assigned_date_filter = [datetime(2023, 7, 1), None]\n",
    "\n",
    "# Run the main analysis function\n",
    "fy_analysis(raw_xlsx, template_xlsx, processed_dir=processed_dir, assigned_date_filter=assigned_date_filter)"
   ]
  }
 ],
 "metadata": {
  "kernelspec": {
   "display_name": "base",
   "language": "python",
   "name": "python3"
  },
  "language_info": {
   "codemirror_mode": {
    "name": "ipython",
    "version": 3
   },
   "file_extension": ".py",
   "mimetype": "text/x-python",
   "name": "python",
   "nbconvert_exporter": "python",
   "pygments_lexer": "ipython3",
   "version": "3.12.5"
  }
 },
 "nbformat": 4,
 "nbformat_minor": 2
}
